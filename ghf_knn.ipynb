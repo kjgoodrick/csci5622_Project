{
 "cells": [
  {
   "cell_type": "markdown",
   "metadata": {},
   "source": [
    "# Predict geothermal heat flux: KNN regression"
   ]
  },
  {
   "cell_type": "markdown",
   "metadata": {},
   "source": [
    "References:\n",
    "* http://rasbt.github.io/mlxtend/user_guide/feature_selection/SequentialFeatureSelector/\n",
    "* https://scikit-learn.org/stable/modules/generated/sklearn.neighbors.KNeighborsClassifier.html\n",
    "* https://github.com/amirkdv/ghf-greenland-gbrt\n",
    "\n",
    "Ensure R17_global_test.csv and R17_global_train.csv is in the same directory as this notebook.\n",
    "\n",
    "Install mlxtend to use SequentialFeatureSelector (pip install mlxtend)."
   ]
  },
  {
   "cell_type": "code",
   "execution_count": 1,
   "metadata": {},
   "outputs": [],
   "source": [
    "import numpy as np\n",
    "import pandas as pd\n",
    "from sklearn.neighbors import KNeighborsRegressor, LocalOutlierFactor\n",
    "from sklearn import preprocessing\n",
    "from sklearn.model_selection import GridSearchCV\n",
    "from mlxtend.feature_selection import SequentialFeatureSelector as SFS\n",
    "from sklearn.pipeline import Pipeline\n",
    "from timeit import default_timer as timer\n",
    "import math\n",
    "from matplotlib import pyplot as plt\n",
    "from sklearn.model_selection import GroupKFold\n",
    "from sklearn.feature_selection import RFECV\n",
    "from sklearn.model_selection import ParameterGrid\n",
    "from multiprocessing import Pool\n",
    "from tqdm.notebook import tqdm"
   ]
  },
  {
   "cell_type": "code",
   "execution_count": 2,
   "metadata": {},
   "outputs": [],
   "source": [
    "def find_continent(df):\n",
    "    cont = []\n",
    "    for r in df.itertuples():\n",
    "        if (r.lat > 0)  & (r.lon < -25): # NA\n",
    "            cont.append(0)\n",
    "        elif (r.lat > 30)  & (75 > r.lon) & (r.lon > -25): #EU\n",
    "            cont.append(1)\n",
    "        else:\n",
    "            cont.append(2)\n",
    "    return cont"
   ]
  },
  {
   "cell_type": "markdown",
   "metadata": {},
   "source": [
    "Load the data."
   ]
  },
  {
   "cell_type": "code",
   "execution_count": 3,
   "metadata": {},
   "outputs": [
    {
     "name": "stdout",
     "output_type": "stream",
     "text": [
      "X_train shape: (3227, 17)\n",
      "y_train shape: (3227,)\n",
      "X_test shape: (807, 17)\n",
      "y_test shape: (807,)\n"
     ]
    }
   ],
   "source": [
    "X_labels = [\"thickness_upper_crust\",\n",
    "            \"thickness_middle_crust\",\n",
    "            \"upper_mantle_density_anomaly\",\n",
    "            \"d_2_ridge\",\n",
    "            \"d_2_trench\",\n",
    "            \"d_2_trans_ridge\",\n",
    "            \"d_2_volcano\",\n",
    "            \"d_2_hotspot\",\n",
    "            \"thickness_crust\",\n",
    "            \"d_2_young_rift\",\n",
    "#             \"lon\",\n",
    "#             \"lat\".\n",
    "#             \"GHF\",\n",
    "            \"upper_mantle_vel_structure\",\n",
    "            \"age\",\n",
    "            \"magnetic_anomaly\",\n",
    "            \"depth_to_moho\",\n",
    "            \"lithos_asthenos_bdry\",\n",
    "            \"bougeur_gravity_anomaly\",\n",
    "            \"topography\"\n",
    "]\n",
    "\n",
    "y_lable = 'GHF'\n",
    "\n",
    "# Load data\n",
    "data_train = pd.read_csv('R17_global_train.csv')\n",
    "data_train['continent'] = find_continent(data_train)\n",
    "train = data_train\n",
    "X_train = data_train[X_labels]\n",
    "y_train = data_train[y_lable]\n",
    "\n",
    "data_test = pd.read_csv('R17_global_test.csv')\n",
    "data_test['continent'] = find_continent(data_test)\n",
    "test = data_test\n",
    "X_test = data_test[X_labels]\n",
    "y_test = data_test[y_lable]\n",
    "# Scale X\n",
    "scaler = preprocessing.MinMaxScaler()\n",
    "X_train = scaler.fit_transform(X_train)\n",
    "X_test = scaler.transform(X_test)\n",
    "\n",
    "print('X_train shape:', X_train.shape)\n",
    "print('y_train shape:', y_train.shape)\n",
    "print('X_test shape:', X_test.shape)\n",
    "print('y_test shape:', y_test.shape)"
   ]
  },
  {
   "cell_type": "code",
   "execution_count": 4,
   "metadata": {},
   "outputs": [
    {
     "data": {
      "image/png": "[encoded data removed]",
      "text/plain": [
       "<Figure size 720x576 with 1 Axes>"
      ]
     },
     "metadata": {
      "needs_background": "light"
     },
     "output_type": "display_data"
    }
   ],
   "source": [
    "na_train = train[train['continent'] == 0]\n",
    "na_test = test[test['continent'] == 0]\n",
    "\n",
    "fig, ax = plt.subplots(figsize=(10, 8))\n",
    "ax.scatter(na_train['lon'], na_train['lat'], s=1, c='b', label='Train')\n",
    "ax.scatter(na_test['lon'], na_test['lat'], s=1, c='r', label='Test')\n",
    "ax.legend()\n",
    "plt.show()"
   ]
  },
  {
   "cell_type": "code",
   "execution_count": 5,
   "metadata": {},
   "outputs": [
    {
     "data": {
      "image/png": "[encoded data removed]",
      "text/plain": [
       "<Figure size 720x576 with 1 Axes>"
      ]
     },
     "metadata": {
      "needs_background": "light"
     },
     "output_type": "display_data"
    }
   ],
   "source": [
    "eu_train = train[train['continent'] == 1]\n",
    "eu_test = test[test['continent'] == 1]\n",
    "\n",
    "fig, ax = plt.subplots(figsize=(10, 8))\n",
    "ax.scatter(eu_train['lon'], eu_train['lat'], s=1, c='b', label='Train')\n",
    "ax.scatter(eu_test['lon'], eu_test['lat'], s=1, c='r', label='Test')\n",
    "ax.legend()\n",
    "plt.show()"
   ]
  },
  {
   "cell_type": "code",
   "execution_count": 6,
   "metadata": {},
   "outputs": [],
   "source": [
    "eu_na_train = train[train['continent'] <= 1]\n",
    "eu_na_test = test[test['continent'] <= 1]\n",
    "\n",
    "X_eu_na_train = eu_na_train[X_labels]\n",
    "y_eu_na_train = eu_na_train[y_lable]\n",
    "\n",
    "X_eu_na_test = eu_na_test[X_labels]\n",
    "y_eu_na_test = eu_na_test[y_lable]"
   ]
  },
  {
   "cell_type": "markdown",
   "metadata": {},
   "source": [
    "Use sequential feature selection to decide what features to use. Grid search to determine best hyperparameter values."
   ]
  },
  {
   "cell_type": "code",
   "execution_count": 8,
   "metadata": {},
   "outputs": [
    {
     "data": {
      "application/vnd.jupyter.widget-view+json": {
       "model_id": "b6dc541f497e49f69b10c296fbe9bfb7",
       "version_major": 2,
       "version_minor": 0
      },
      "text/plain": [
       "HBox(children=(IntProgress(value=0, max=294), HTML(value='')))"
      ]
     },
     "metadata": {},
     "output_type": "display_data"
    },
    {
     "name": "stdout",
     "output_type": "stream",
     "text": [
      "\n"
     ]
    }
   ],
   "source": [
    "gkf = GroupKFold(n_splits=2)\n",
    "param_grid = {'n_neighbors': range(1, 50),\n",
    "   'weights': ['distance', 'uniform'],\n",
    "   'metric': ['euclidean', 'manhattan', 'chebyshev']}\n",
    "\n",
    "poss_params = ParameterGrid(param_grid)\n",
    "\n",
    "def find_sfs(params):\n",
    "    knn = KNeighborsRegressor(n_neighbors=params['n_neighbors'], metric=params['metric'], weights=params['weights'])\n",
    "\n",
    "    sfs = SFS(estimator=knn, \n",
    "               k_features='best',\n",
    "               forward=False, \n",
    "               floating=True,\n",
    "#                verbose=2,\n",
    "               cv=gkf)\n",
    "\n",
    "    sfs.fit(X_eu_na_train, y_eu_na_train, groups=list(eu_na_train['continent']))\n",
    "    \n",
    "    return sfs\n",
    "\n",
    "# pool = Pool()\n",
    "# sfss = pool.map(find_sfs, poss_params)\n",
    "# pool.close()\n",
    "# pool.join()\n",
    "\n",
    "best_score = None\n",
    "best_sfs = None\n",
    "\n",
    "for params in tqdm(poss_params):\n",
    "    sfs = find_sfs(params)\n",
    "    \n",
    "    if best_score is None or sfs.k_score_ > best_score:\n",
    "        best_score = sfs.k_score_\n",
    "        best_sfs = sfs\n",
    "\n",
    "# best_sfs = sfss[sfss.index(max(sfss, key=lambda x: x.k_score_))]"
   ]
  },
  {
   "cell_type": "code",
   "execution_count": 9,
   "metadata": {},
   "outputs": [
    {
     "name": "stdout",
     "output_type": "stream",
     "text": [
      "SequentialFeatureSelector(clone_estimator=True, cv=GroupKFold(n_splits=2),\n",
      "                          estimator=KNeighborsRegressor(algorithm='auto',\n",
      "                                                        leaf_size=30,\n",
      "                                                        metric='manhattan',\n",
      "                                                        metric_params=None,\n",
      "                                                        n_jobs=None,\n",
      "                                                        n_neighbors=46, p=2,\n",
      "                                                        weights='uniform'),\n",
      "                          floating=True, forward=False, k_features='best',\n",
      "                          n_jobs=1, pre_dispatch='2*n_jobs', scoring=None,\n",
      "                          verbose=0)\n",
      "('thickness_upper_crust', 'thickness_middle_crust', 'upper_mantle_density_anomaly', 'd_2_volcano', 'd_2_hotspot', 'thickness_crust', 'magnetic_anomaly')\n",
      "0.34667689719978523\n"
     ]
    }
   ],
   "source": [
    "# print(best_score)\n",
    "print(best_sfs)\n",
    "print(best_sfs.k_feature_names_)\n",
    "print(best_sfs.k_score_)"
   ]
  },
  {
   "cell_type": "markdown",
   "metadata": {},
   "source": [
    "Fit a KNN model using the best hyperparameter values."
   ]
  },
  {
   "cell_type": "code",
   "execution_count": 14,
   "metadata": {},
   "outputs": [
    {
     "data": {
      "text/html": [
       "<div>\n",
       "<style scoped>\n",
       "    .dataframe tbody tr th:only-of-type {\n",
       "        vertical-align: middle;\n",
       "    }\n",
       "\n",
       "    .dataframe tbody tr th {\n",
       "        vertical-align: top;\n",
       "    }\n",
       "\n",
       "    .dataframe thead th {\n",
       "        text-align: right;\n",
       "    }\n",
       "</style>\n",
       "<table border=\"1\" class=\"dataframe\">\n",
       "  <thead>\n",
       "    <tr style=\"text-align: right;\">\n",
       "      <th></th>\n",
       "      <th>thickness_middle_crust</th>\n",
       "      <th>d_2_volcano</th>\n",
       "      <th>thickness_crust</th>\n",
       "      <th>upper_mantle_vel_structure</th>\n",
       "    </tr>\n",
       "  </thead>\n",
       "  <tbody>\n",
       "    <tr>\n",
       "      <td>0</td>\n",
       "      <td>15.0</td>\n",
       "      <td>887.95</td>\n",
       "      <td>41.000000</td>\n",
       "      <td>1.0</td>\n",
       "    </tr>\n",
       "    <tr>\n",
       "      <td>2</td>\n",
       "      <td>13.5</td>\n",
       "      <td>530.13</td>\n",
       "      <td>43.490002</td>\n",
       "      <td>3.0</td>\n",
       "    </tr>\n",
       "    <tr>\n",
       "      <td>3</td>\n",
       "      <td>10.0</td>\n",
       "      <td>2366.71</td>\n",
       "      <td>39.509998</td>\n",
       "      <td>4.0</td>\n",
       "    </tr>\n",
       "    <tr>\n",
       "      <td>4</td>\n",
       "      <td>16.0</td>\n",
       "      <td>1487.38</td>\n",
       "      <td>42.299999</td>\n",
       "      <td>2.0</td>\n",
       "    </tr>\n",
       "    <tr>\n",
       "      <td>5</td>\n",
       "      <td>17.0</td>\n",
       "      <td>2036.97</td>\n",
       "      <td>46.459999</td>\n",
       "      <td>1.0</td>\n",
       "    </tr>\n",
       "    <tr>\n",
       "      <td>...</td>\n",
       "      <td>...</td>\n",
       "      <td>...</td>\n",
       "      <td>...</td>\n",
       "      <td>...</td>\n",
       "    </tr>\n",
       "    <tr>\n",
       "      <td>3221</td>\n",
       "      <td>16.0</td>\n",
       "      <td>1153.54</td>\n",
       "      <td>39.009998</td>\n",
       "      <td>2.0</td>\n",
       "    </tr>\n",
       "    <tr>\n",
       "      <td>3222</td>\n",
       "      <td>11.0</td>\n",
       "      <td>1342.86</td>\n",
       "      <td>34.630001</td>\n",
       "      <td>4.0</td>\n",
       "    </tr>\n",
       "    <tr>\n",
       "      <td>3223</td>\n",
       "      <td>8.0</td>\n",
       "      <td>1204.37</td>\n",
       "      <td>40.889999</td>\n",
       "      <td>4.0</td>\n",
       "    </tr>\n",
       "    <tr>\n",
       "      <td>3225</td>\n",
       "      <td>16.0</td>\n",
       "      <td>1404.25</td>\n",
       "      <td>40.130001</td>\n",
       "      <td>2.0</td>\n",
       "    </tr>\n",
       "    <tr>\n",
       "      <td>3226</td>\n",
       "      <td>12.0</td>\n",
       "      <td>703.70</td>\n",
       "      <td>43.290001</td>\n",
       "      <td>6.0</td>\n",
       "    </tr>\n",
       "  </tbody>\n",
       "</table>\n",
       "<p>1949 rows × 4 columns</p>\n",
       "</div>"
      ],
      "text/plain": [
       "      thickness_middle_crust  d_2_volcano  thickness_crust  \\\n",
       "0                       15.0       887.95        41.000000   \n",
       "2                       13.5       530.13        43.490002   \n",
       "3                       10.0      2366.71        39.509998   \n",
       "4                       16.0      1487.38        42.299999   \n",
       "5                       17.0      2036.97        46.459999   \n",
       "...                      ...          ...              ...   \n",
       "3221                    16.0      1153.54        39.009998   \n",
       "3222                    11.0      1342.86        34.630001   \n",
       "3223                     8.0      1204.37        40.889999   \n",
       "3225                    16.0      1404.25        40.130001   \n",
       "3226                    12.0       703.70        43.290001   \n",
       "\n",
       "      upper_mantle_vel_structure  \n",
       "0                            1.0  \n",
       "2                            3.0  \n",
       "3                            4.0  \n",
       "4                            2.0  \n",
       "5                            1.0  \n",
       "...                          ...  \n",
       "3221                         2.0  \n",
       "3222                         4.0  \n",
       "3223                         4.0  \n",
       "3225                         2.0  \n",
       "3226                         6.0  \n",
       "\n",
       "[1949 rows x 4 columns]"
      ]
     },
     "execution_count": 14,
     "metadata": {},
     "output_type": "execute_result"
    }
   ],
   "source": [
    "best_features = best_sfs.k_feature_names_\n",
    "X_eu_na_train[list(best_features)]"
   ]
  },
  {
   "cell_type": "code",
   "execution_count": 10,
   "metadata": {},
   "outputs": [
    {
     "name": "stdout",
     "output_type": "stream",
     "text": [
      "KNeighborsRegressor(algorithm='auto', leaf_size=30, metric='manhattan',\n",
      "                    metric_params=None, n_jobs=None, n_neighbors=46, p=2,\n",
      "                    weights='uniform')\n",
      "R^2: 0.4669797417024025\n",
      "RMSE: 0.21390988996624427\n"
     ]
    }
   ],
   "source": [
    "# Create subsets of train/test data using best features from SFS\n",
    "knn = best_sfs.estimator\n",
    "best_features = best_sfs.k_feature_names_\n",
    "X_train_selected = X_eu_na_train[list(best_features)]\n",
    "X_test_selected = X_eu_na_test[list(best_features)]\n",
    "\n",
    "print(knn)\n",
    "knn.fit(X_train_selected, y_eu_na_train)\n",
    "print('R^2:', knn.score(X_test_selected, y_eu_na_test))\n",
    "pred = knn.predict(X_test_selected)\n",
    "rmse = (1 / np.average(y_eu_na_test)) * math.sqrt(np.average((y_eu_na_test - pred)**2))\n",
    "print ('RMSE:', rmse)"
   ]
  },
  {
   "cell_type": "code",
   "execution_count": null,
   "metadata": {},
   "outputs": [],
   "source": []
  }
 ],
 "metadata": {
  "kernelspec": {
   "display_name": "Python 3",
   "language": "python",
   "name": "python3"
  },
  "language_info": {
   "codemirror_mode": {
    "name": "ipython",
    "version": 3
   },
   "file_extension": ".py",
   "mimetype": "text/x-python",
   "name": "python",
   "nbconvert_exporter": "python",
   "pygments_lexer": "ipython3",
   "version": "3.7.4"
  }
 },
 "nbformat": 4,
 "nbformat_minor": 2
}
